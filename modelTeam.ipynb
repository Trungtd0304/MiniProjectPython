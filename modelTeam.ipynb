{
 "cells": [
  {
   "cell_type": "code",
   "execution_count": 19,
   "metadata": {},
   "outputs": [],
   "source": [
    "import numpy as np\n",
    "import pandas as pd\n",
    "import seaborn as sns\n",
    "import sqlite3\n",
    "import matplotlib.pyplot as plt\n",
    "# train mô hình ML\n",
    "from sklearn.model_selection import train_test_split\n",
    "from sklearn import linear_model\n",
    "# lưu mô hình\n",
    "import pickle"
   ]
  },
  {
   "cell_type": "code",
   "execution_count": 20,
   "metadata": {},
   "outputs": [],
   "source": [
    "conn = sqlite3.connect('database.sqlite')\n",
    "Match = pd.read_sql(\"\"\"SELECT * FROM Match\"\"\", conn)\n",
    "query = \"\"\"SELECT Match.id, \n",
    "                    Country.name AS country_name, \n",
    "                    League.name AS league_name,                     \n",
    "                    HT.team_long_name AS  home_team,\n",
    "                    AT.team_long_name AS away_team                                                           \n",
    "            FROM Match\n",
    "            JOIN Country on Country.id = Match.country_id\n",
    "            JOIN League on League.id = Match.league_id\n",
    "            LEFT JOIN Team AS HT on HT.team_api_id = Match.home_team_api_id\n",
    "            LEFT JOIN Team AS AT on AT.team_api_id = Match.away_team_api_id\n",
    "            \"\"\"\n",
    "\n",
    "detailed_matches = pd.read_sql(query, conn)"
   ]
  },
  {
   "cell_type": "code",
   "execution_count": 21,
   "metadata": {},
   "outputs": [],
   "source": [
    "pd.set_option('display.max_columns', None) # hiển thị tất cả các cột trong dataframe"
   ]
  },
  {
   "cell_type": "code",
   "execution_count": 22,
   "metadata": {},
   "outputs": [],
   "source": [
    "detailed_matches = pd.merge(detailed_matches, Match, on='id')"
   ]
  },
  {
   "cell_type": "code",
   "execution_count": 23,
   "metadata": {},
   "outputs": [],
   "source": [
    "def getResultWinLoss_2(match_info):\n",
    "    if match_info['home_team_goal'] > match_info['away_team_goal']:\n",
    "        home_team_result = 3\n",
    "        away_team_result = 0\n",
    "    elif match_info['home_team_goal'] < match_info['away_team_goal']:\n",
    "        home_team_result = 0\n",
    "        away_team_result = 3\n",
    "    else: \n",
    "        home_team_result = 1\n",
    "        away_team_result = 1\n",
    "    return [home_team_result, away_team_result]\n",
    "\n",
    "detailed_matches[['home_team_result', 'away_team_result']] = detailed_matches[['home_team_goal', 'away_team_goal']].apply(getResultWinLoss_2, axis = 1, result_type='expand')\n",
    "detailed_matches['dif_goal'] = detailed_matches['home_team_goal'] - detailed_matches['away_team_goal']\n",
    "detailed_matches.dropna(inplace=True)"
   ]
  },
  {
   "cell_type": "code",
   "execution_count": 25,
   "metadata": {},
   "outputs": [],
   "source": [
    "X=detailed_matches[[\n",
    "'B365H',\n",
    "'B365D',\n",
    "'B365A'\n",
    "]]\n",
    "y=detailed_matches['dif_goal']\n",
    "X_train, X_test, y_train, y_test = train_test_split(X, y, test_size=0.2, random_state=0)\n",
    "model=linear_model.LinearRegression()\n",
    "model.fit(X_train,y_train)\n",
    "\n",
    "pickle.dump(model, open('modelSav/modelHomeWinWithBet365.sav','wb'))"
   ]
  },
  {
   "cell_type": "code",
   "execution_count": 33,
   "metadata": {},
   "outputs": [],
   "source": [
    "X=detailed_matches[[\n",
    "'BSH',\n",
    "'BSD',\n",
    "'BSA'\n",
    "]]\n",
    "y=detailed_matches['dif_goal']\n",
    "X_train, X_test, y_train, y_test = train_test_split(X, y, test_size=0.2, random_state=0)\n",
    "model=linear_model.LinearRegression()\n",
    "model.fit(X_train,y_train)\n",
    "\n",
    "pickle.dump(model, open('modelSav/modelHomeWinWithBlueSquare.sav','wb'))"
   ]
  }
 ],
 "metadata": {
  "kernelspec": {
   "display_name": "Python 3.8.11 ('base')",
   "language": "python",
   "name": "python3"
  },
  "language_info": {
   "codemirror_mode": {
    "name": "ipython",
    "version": 3
   },
   "file_extension": ".py",
   "mimetype": "text/x-python",
   "name": "python",
   "nbconvert_exporter": "python",
   "pygments_lexer": "ipython3",
   "version": "3.8.11"
  },
  "orig_nbformat": 4,
  "vscode": {
   "interpreter": {
    "hash": "ad2bdc8ecc057115af97d19610ffacc2b4e99fae6737bb82f5d7fb13d2f2c186"
   }
  }
 },
 "nbformat": 4,
 "nbformat_minor": 2
}
